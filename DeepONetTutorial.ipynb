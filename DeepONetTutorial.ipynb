{
 "cells": [
  {
   "cell_type": "code",
   "execution_count": 1,
   "metadata": {},
   "outputs": [],
   "source": [
    "%load_ext tensorboard"
   ]
  },
  {
   "cell_type": "code",
   "execution_count": 2,
   "metadata": {},
   "outputs": [
    {
     "name": "stderr",
     "output_type": "stream",
     "text": [
      "2023-12-27 13:10:25.672462: I tensorflow/core/platform/cpu_feature_guard.cc:182] This TensorFlow binary is optimized to use available CPU instructions in performance-critical operations.\n",
      "To enable the following instructions: AVX2 FMA, in other operations, rebuild TensorFlow with the appropriate compiler flags.\n"
     ]
    }
   ],
   "source": [
    "import os\n",
    "import datetime\n",
    "\n",
    "import numpy as np\n",
    "import tensorflow as tf\n",
    "import matplotlib.pyplot as plt\n",
    "\n",
    "from tqdm import tqdm\n",
    "from scipy.integrate import solve_ivp\n",
    "from sklearn.gaussian_process.kernels import RBF\n",
    "from sklearn.gaussian_process import GaussianProcessRegressor\n",
    "\n",
    "from assets.ml.DeepONetwork import TrunkNN\n",
    "from assets.ml.DeepONetwork import BranchNN\n",
    "from assets.ml.DeepONetwork import DeepONET\n",
    "from assets.ml.DeepONetwork import DeepOPINN\n",
    "from assets.ml.DeepONetwork import LogPINNLossesCallback\n",
    "from assets.ml.DeepONetwork import PredictOnEpochEndCallback"
   ]
  },
  {
   "cell_type": "code",
   "execution_count": 3,
   "metadata": {},
   "outputs": [],
   "source": [
    "def createSamples(lengthScale, k, domain):\n",
    "    kernel = RBF(length_scale=lengthScale)\n",
    "    GP = GaussianProcessRegressor(kernel=kernel)\n",
    "    u_sample = np.zeros((k, 100))\n",
    "    for i in range(k):\n",
    "        n = np.random.randint(0, 10000)\n",
    "        u_sample[i, :] = GP.sample_y(domain.reshape(-1, 1), random_state=n).flatten()\n",
    "\n",
    "    return u_sample"
   ]
  },
  {
   "cell_type": "code",
   "execution_count": 4,
   "metadata": {},
   "outputs": [],
   "source": [
    "def solutions(u, t):\n",
    "    sols = []\n",
    "    for i in tqdm(range(u.shape[0]), desc=\"Generating Solutions\", ncols=90):\n",
    "        sol = solve_ivp(lambda var_t, var_s: np.interp(var_t, t.flatten(), u[i, :]), t_span=[0, 1], y0=[0], t_eval=t.flatten(), method='RK45')\n",
    "        sols.append(sol.y[0].reshape(-1, 1))\n",
    "\n",
    "    return np.array(sols)"
   ]
  },
  {
   "cell_type": "code",
   "execution_count": 5,
   "metadata": {},
   "outputs": [],
   "source": [
    "def generate_dataset(N, length_scale, ODE_solve=False):\n",
    "    \"\"\"Generate dataset for Physics-informed DeepONet training.\n",
    "    \n",
    "    Args:\n",
    "    ----\n",
    "    N: int, number of u(·) profiles\n",
    "    length_scale: float, length scale for RBF kernel\n",
    "    ODE_solve: boolean, indicate whether to compute the corresponding s(·)\n",
    "    \n",
    "    Outputs:\n",
    "    --------\n",
    "    X: the dataset for t, u(·) profiles, and u(t)\n",
    "    y: the dataset for the corresponding ODE solution s(·)\n",
    "    \"\"\"\n",
    "    \n",
    "    # Create random fields\n",
    "    random_field = createSamples(length_scale, N, domain=np.linspace(0, 1, 100))\n",
    "    \n",
    "    # Compile dataset\n",
    "    X = np.zeros((N*100, 100+2))\n",
    "    y = np.zeros((N*100, 1))\n",
    "\n",
    "    for i in tqdm(range(N), desc=\"Generating Data\", ncols = 80):\n",
    "        u = np.tile(random_field[i, :], (100, 1))\n",
    "        t = np.linspace(0, 1, 100).reshape(-1, 1)\n",
    "\n",
    "        # u(·) evaluated at t\n",
    "        u_t = np.diag(u).reshape(-1, 1)\n",
    "\n",
    "        # Update overall matrix\n",
    "        X[i*100:(i+1)*100, :] = np.concatenate((t, u, u_t), axis=1)\n",
    "\n",
    "        # Solve ODE\n",
    "        if ODE_solve:\n",
    "            sol = solve_ivp(lambda var_t, var_s: np.interp(var_t, t.flatten(), random_field[i, :]), \n",
    "                            t_span=[0, 1], y0=[0], t_eval=t.flatten(), method='RK45')\n",
    "            y[i*100:(i+1)*100, :] = sol.y[0].reshape(-1, 1)\n",
    "        \n",
    "    return X, y"
   ]
  },
  {
   "cell_type": "code",
   "execution_count": 6,
   "metadata": {},
   "outputs": [
    {
     "name": "stderr",
     "output_type": "stream",
     "text": [
      "Generating Data: 100%|███████████████████████| 100/100 [00:00<00:00, 650.78it/s]\n",
      "Generating Data: 100%|█████████████████████████| 50/50 [00:00<00:00, 606.86it/s]\n",
      "Generating Data: 100%|█████████████████████████| 50/50 [00:00<00:00, 848.84it/s]\n"
     ]
    }
   ],
   "source": [
    "# Create training dataset\n",
    "N_train = 100\n",
    "length_scale_train = 0.2\n",
    "X_train, y_train = generate_dataset(N_train, length_scale_train, ODE_solve=True)\n",
    "\n",
    "# Create validation dataset\n",
    "N_val = 50\n",
    "length_scale_test = 0.25\n",
    "X_val, y_val = generate_dataset(N_val, length_scale_test, ODE_solve=True)\n",
    "\n",
    "# Create testing dataset\n",
    "N_test = 50\n",
    "length_scale_test = 0.5\n",
    "X_test, y_test = generate_dataset(N_test, length_scale_test, ODE_solve=True)"
   ]
  },
  {
   "cell_type": "code",
   "execution_count": 7,
   "metadata": {},
   "outputs": [],
   "source": [
    "X_train = tf.convert_to_tensor(X_train, dtype=tf.float32)\n",
    "X_val = tf.convert_to_tensor(X_val, dtype=tf.float32)\n",
    "X_test = tf.convert_to_tensor(X_test, dtype=tf.float32)"
   ]
  },
  {
   "cell_type": "code",
   "execution_count": 8,
   "metadata": {},
   "outputs": [],
   "source": [
    "train_index = np.random.choice(np.arange(0, N_train), size=1, replace=False)[0]\n",
    "val_index = np.random.choice(np.arange(0, N_val), size=1, replace=False)[0]\n",
    "test_index = np.random.choice(np.arange(0, N_test), size=1, replace=False)[0]\n",
    "\n",
    "t_train_exp = X_train[train_index*100:(train_index + 1)*100, :1]\n",
    "g_train_exp = X_train[train_index*100:(train_index + 1)*100, 1:-1]\n",
    "gt_train_exp = X_train[train_index*100:(train_index + 1)*100, -1:]\n",
    "\n",
    "sol_train = y_train[train_index*100:(train_index + 1)*100]\n",
    "\n",
    "train_example = [g_train_exp, t_train_exp, gt_train_exp]\n",
    "\n",
    "t_val_exp = X_val[val_index*100:(val_index + 1)*100, :1]\n",
    "g_val_exp = X_val[val_index*100:(val_index + 1)*100, 1:-1]\n",
    "gt_val_exp = X_val[val_index*100:(val_index + 1)*100, -1:]\n",
    "\n",
    "sol_val = y_val[val_index*100:(val_index + 1)*100]\n",
    "\n",
    "val_example = [g_val_exp, t_val_exp, gt_val_exp]\n",
    "\n",
    "t_test_exp = X_test[test_index*100:(test_index + 1)*100, :1]\n",
    "g_test_exp = X_test[test_index*100:(test_index + 1)*100, 1:-1]\n",
    "gt_test_exp = X_test[test_index*100:(test_index + 1)*100, -1:]\n",
    "\n",
    "sol_test = y_test[test_index*100:(test_index + 1)*100]\n",
    "\n",
    "test_example = [g_test_exp, t_test_exp, gt_test_exp]\n",
    "\n",
    "examples = [train_example, val_example, test_example]\n",
    "sols = [sol_train, sol_val, sol_test]"
   ]
  },
  {
   "cell_type": "code",
   "execution_count": 9,
   "metadata": {},
   "outputs": [],
   "source": [
    "# Restructure the trainging dataset\n",
    "t_train = X_train[:, :1]\n",
    "g_train = X_train[:, 1:-1]\n",
    "gt_train = X_train[:, -1:]\n",
    "\n",
    "X_train = [g_train, t_train, gt_train]\n",
    "\n",
    "# Restructure the validation dataset\n",
    "t_val = X_val[:, :1]\n",
    "g_val = X_val[:, 1:-1]\n",
    "gt_val = X_val[:, -1:]\n",
    "\n",
    "X_val = [g_val, t_val, gt_val]\n",
    "\n",
    "# Restructure the test dataset\n",
    "t_test = X_test[:, :1]\n",
    "g_test = X_test[:, 1:-1]\n",
    "gt_test = X_test[:, -1:]\n",
    "\n",
    "X_test = [g_test, t_test, gt_test]"
   ]
  },
  {
   "cell_type": "code",
   "execution_count": 10,
   "metadata": {},
   "outputs": [
    {
     "data": {
      "image/png": "[encoded data removed]",
      "text/plain": [
       "<Figure size 1600x1600 with 4 Axes>"
      ]
     },
     "metadata": {},
     "output_type": "display_data"
    }
   ],
   "source": [
    "domain = np.linspace(0, 1, 100)\n",
    "\n",
    "fig, axs = plt.subplots(2, 2, figsize=(16, 16))\n",
    "\n",
    "index = np.random.choice(np.arange(0, N_train), size=4, replace=False)\n",
    "\n",
    "for i in range(4):\n",
    "    ax = axs[i // 2][i % 2]\n",
    "    ax.plot(domain, g_train[index[i]*100], label = f\"Profile at index {index[i]}\")\n",
    "    ax.plot(domain, y_train[index[i]*100:(index[i]+1)*100], \"-.\", label = f\"Solution at index {index[i]}\")\n",
    "    ax.set_xlabel('t', fontsize=12)\n",
    "    ax.set_ylabel('u(t)', fontsize=12)\n",
    "    ax.legend()\n",
    "    ax.grid(True, color = 'lightgrey')\n",
    "\n",
    "plt.show()"
   ]
  },
  {
   "cell_type": "code",
   "execution_count": 11,
   "metadata": {},
   "outputs": [
    {
     "name": "stderr",
     "output_type": "stream",
     "text": [
      "2023-12-27 13:10:38.328984: I tensorflow/tsl/profiler/lib/profiler_session.cc:104] Profiler session initializing.\n",
      "2023-12-27 13:10:38.329004: I tensorflow/tsl/profiler/lib/profiler_session.cc:119] Profiler session started.\n",
      "2023-12-27 13:10:38.329070: I tensorflow/tsl/profiler/lib/profiler_session.cc:131] Profiler session tear down.\n"
     ]
    }
   ],
   "source": [
    "log_dir = os.path.join(\".\", \"assets\", \"logs\", \"fits\", f\"DeepONET_{datetime.datetime.now().strftime('%Y%m%d-%H%M%S')}\")\n",
    "tensorboard_callback = tf.keras.callbacks.TensorBoard(log_dir=log_dir, histogram_freq=1, write_images=True, profile_batch= '10, 110')\n",
    "\n",
    "fileWriter = tf.summary.create_file_writer(os.path.join(log_dir, \"metrics\"))\n",
    "fileWriter.set_as_default()"
   ]
  },
  {
   "cell_type": "code",
   "execution_count": 12,
   "metadata": {},
   "outputs": [
    {
     "data": {
      "text/plain": [
       "Reusing TensorBoard on port 8081 (pid 13403), started 19:22:28 ago. (Use '!kill 13403' to kill it.)"
      ]
     },
     "metadata": {},
     "output_type": "display_data"
    },
    {
     "data": {
      "text/html": [
       "\n",
       "      <iframe id=\"tensorboard-frame-5db9fb134cfb8f76\" width=\"100%\" height=\"800\" frameborder=\"0\">\n",
       "      </iframe>\n",
       "      <script>\n",
       "        (function() {\n",
       "          const frame = document.getElementById(\"tensorboard-frame-5db9fb134cfb8f76\");\n",
       "          const url = new URL(\"http://localhost\");\n",
       "          const port = 8081;\n",
       "          if (port) {\n",
       "            url.port = port;\n",
       "          }\n",
       "          frame.src = url;\n",
       "        })();\n",
       "      </script>\n",
       "    "
      ],
      "text/plain": [
       "<IPython.core.display.HTML object>"
      ]
     },
     "metadata": {},
     "output_type": "display_data"
    }
   ],
   "source": [
    "%tensorboard --logdir ./assets/logs --port=8081"
   ]
  },
  {
   "cell_type": "code",
   "execution_count": 13,
   "metadata": {},
   "outputs": [],
   "source": [
    "modelPath = os.path.join(\".\", \"assets\", \"ml\", \"DeepONET\", \"deepONET.h5\")\n",
    "model_checkpoint_callback = tf.keras.callbacks.ModelCheckpoint(filepath=modelPath, monitor='val_loss', save_best_only=True, save_weights_only=True)"
   ]
  },
  {
   "cell_type": "code",
   "execution_count": 14,
   "metadata": {},
   "outputs": [],
   "source": [
    "predictionsCallback = PredictOnEpochEndCallback(examples=examples, solutions=sols)"
   ]
  },
  {
   "cell_type": "code",
   "execution_count": 15,
   "metadata": {},
   "outputs": [],
   "source": [
    "learning_rate_callback = tf.keras.callbacks.ReduceLROnPlateau(factor=0.9, patience=50, min_lr=1e-9)\n",
    "_callbacks = [tensorboard_callback, model_checkpoint_callback, learning_rate_callback, predictionsCallback]\n",
    "callbacks = tf.keras.callbacks.CallbackList(_callbacks, add_history=False)"
   ]
  },
  {
   "cell_type": "code",
   "execution_count": 16,
   "metadata": {},
   "outputs": [],
   "source": [
    "branchHiddenLayers = [tf.keras.layers.Dense(20, activation = 'tanh', name = f\"branchNETDense_layer{i+1}\") for i in range(5)]\n",
    "trunkHiddenLayers = [tf.keras.layers.Dense(20, activation = 'tanh', name = f\"trunkNETDense_layer{i+1}\") for i in range(5)]\n",
    "\n",
    "\n",
    "branchNET = BranchNN(hiddenLayers=branchHiddenLayers, input_shape=(100,))\n",
    "trunkNET = TrunkNN(hiddenLayers=trunkHiddenLayers, input_shape=(1,))\n",
    "deepONET = DeepONET(branchNN=branchNET, trunkNN=trunkNET)"
   ]
  },
  {
   "cell_type": "code",
   "execution_count": 17,
   "metadata": {},
   "outputs": [],
   "source": [
    "optimizer = tf.keras.optimizers.Adam(learning_rate=1e-3, beta_1=0.9, beta_2=0.999)\n",
    "deepONET.compile(optimizer=optimizer, loss='mse', metrics=['mae', tf.keras.losses.MeanAbsolutePercentageError(), tf.keras.metrics.RootMeanSquaredError()])"
   ]
  },
  {
   "cell_type": "code",
   "execution_count": 18,
   "metadata": {},
   "outputs": [],
   "source": [
    "deepONET.build(input_shape=[(None, 100), (None, 1)])"
   ]
  },
  {
   "cell_type": "code",
   "execution_count": 19,
   "metadata": {},
   "outputs": [
    {
     "name": "stdout",
     "output_type": "stream",
     "text": [
      "Model: \"deep_onet\"\n",
      "_________________________________________________________________\n",
      " Layer (type)                Output Shape              Param #   \n",
      "=================================================================\n",
      " branch_nn (BranchNN)        multiple                  4120      \n",
      "                                                                 \n",
      " trunk_nn (TrunkNN)          multiple                  2140      \n",
      "                                                                 \n",
      " bias_layer (BiasLayer)      multiple                  1         \n",
      "                                                                 \n",
      "=================================================================\n",
      "Total params: 6261 (24.46 KB)\n",
      "Trainable params: 6261 (24.46 KB)\n",
      "Non-trainable params: 0 (0.00 Byte)\n",
      "_________________________________________________________________\n"
     ]
    }
   ],
   "source": [
    "deepONET.summary()"
   ]
  },
  {
   "cell_type": "code",
   "execution_count": 20,
   "metadata": {},
   "outputs": [
    {
     "name": "stdout",
     "output_type": "stream",
     "text": [
      "WARNING:tensorflow:Callback method `on_train_batch_end` is slow compared to the batch time (batch time: 0.0030s vs `on_train_batch_end` time: 0.0116s). Check your callbacks.\n"
     ]
    },
    {
     "name": "stderr",
     "output_type": "stream",
     "text": [
      "2023-12-27 13:11:28.322411: I tensorflow/tsl/profiler/lib/profiler_session.cc:104] Profiler session initializing.\n",
      "2023-12-27 13:11:28.322435: I tensorflow/tsl/profiler/lib/profiler_session.cc:119] Profiler session started.\n",
      "2023-12-27 13:11:32.144814: I tensorflow/tsl/profiler/lib/profiler_session.cc:70] Profiler session collecting data.\n",
      "2023-12-27 13:11:35.113646: I tensorflow/tsl/profiler/lib/profiler_session.cc:131] Profiler session tear down.\n",
      "2023-12-27 13:11:35.116453: I tensorflow/tsl/profiler/rpc/client/save_profile.cc:144] Collecting XSpace to repository: ./assets/logs/fits/DeepONET_20231227-131038/plugins/profile/2023_12_27_13_11_35/bmbp.modem.xplane.pb\n"
     ]
    }
   ],
   "source": [
    "deepONET.fit(x=X_train, y=y_train, epochs=500, verbose=False, batch_size=100, validation_data=(X_val, y_val), callbacks=_callbacks)"
   ]
  },
  {
   "cell_type": "code",
   "execution_count": null,
   "metadata": {},
   "outputs": [],
   "source": [
    "deepONET.load_weights(filepath=modelPath)\n",
    "\n",
    "testDomain = np.linspace(0, 1, 100)\n",
    "testU = createSamples(lengthScale=0.2, k=1, domain=testDomain)\n",
    "groundTruth = solutions(u=testU, t=testDomain).reshape(-1, 1)\n",
    "\n",
    "print(testDomain.shape)\n",
    "print(testU.shape)\n",
    "print(groundTruth.shape)"
   ]
  },
  {
   "cell_type": "code",
   "execution_count": null,
   "metadata": {},
   "outputs": [],
   "source": [
    "fig, ax = plt.subplots(1, 1, figsize=(10, 9))\n",
    "\n",
    "ax.plot(testDomain, testU.reshape(100, ), label = \"Profile\")\n",
    "ax.plot(testDomain, groundTruth, linestyle = \"-.\", label = \"Ground Truth\")\n",
    "\n",
    "ax.set_xlabel(\"$x$\")\n",
    "ax.set_ylabel(\"$f(x)$\")\n",
    "ax.tick_params(axis='x', labelcolor = 'tab:blue')\n",
    "ax.legend()\n",
    "ax.grid(True, color='lightgrey')\n",
    "\n",
    "plt.show()"
   ]
  },
  {
   "cell_type": "code",
   "execution_count": null,
   "metadata": {},
   "outputs": [],
   "source": [
    "testBranchInput = np.array([testU for i in range(testDomain.shape[0])]).reshape(-1, 100)\n",
    "print(testBranchInput.shape)\n",
    "testTrunkInput = testDomain.reshape(-1, 1)\n",
    "print(testTrunkInput.shape)\n",
    "\n",
    "preds = deepONET.predict([testBranchInput, testTrunkInput])\n",
    "print(preds.shape)"
   ]
  },
  {
   "cell_type": "code",
   "execution_count": null,
   "metadata": {},
   "outputs": [],
   "source": [
    "fig, ax = plt.subplots(2, 1, figsize=(10, 9))\n",
    "\n",
    "ax[0].plot(testDomain, testU.reshape(100, ), label = \"Profile\")\n",
    "ax[0].plot(testDomain, groundTruth, linestyle = \"-.\", label = \"Ground Truth\")\n",
    "ax[0].plot(testDomain, preds.reshape(100, ), linestyle = \":\", label = \"Prediction\")\n",
    "\n",
    "ax[0].set_xlabel(\"$x$\")\n",
    "ax[0].set_ylabel(\"$f(x)$\")\n",
    "ax[0].tick_params(axis='x', labelcolor = 'tab:blue')\n",
    "ax[0].legend()\n",
    "ax[0].grid(True, color='lightgrey')\n",
    "\n",
    "ax[1].plot(testDomain, preds - groundTruth, \".\", color = \"tab:red\", label = \"Residuals\")\n",
    "ax[1].axhline(0, linestyle = \":\", color = \"k\")\n",
    "\n",
    "ax[1].set_xlabel(\"$x$\")\n",
    "ax[1].set_ylabel(\"Residual\")\n",
    "ax[1].tick_params(axis='x', labelcolor = 'tab:blue')\n",
    "ax[1].legend()\n",
    "ax[1].grid(True, color='lightgrey')\n",
    "\n",
    "plt.show()"
   ]
  },
  {
   "cell_type": "code",
   "execution_count": null,
   "metadata": {},
   "outputs": [],
   "source": [
    "pred_test = deepONET.predict(X_test)\n",
    "\n",
    "fig, axs = plt.subplots(2, 2, figsize=(16, 16))\n",
    "index = np.random.choice(np.arange(0, N_test), size=4, replace=False)\n",
    "for i in range(4):\n",
    "    ax = axs[i // 2, i % 2]\n",
    "    ax.plot(domain, g_test[index[i]*100], label = f\"Profile at index {index[i]}\")\n",
    "    ax.plot(domain, y_test[index[i]*100:(index[i]+1)*100], \"-.\", label = f\"Solution at index {index[i]}\")\n",
    "    ax.plot(domain, pred_test[index[i]*100:(index[i]+1)*100], \"-.\", label = f\"Prediction at index {index[i]}\")\n",
    "    ax.set_xlabel('t', fontsize=12)\n",
    "    ax.set_ylabel('u(t)', fontsize=12)\n",
    "    ax.legend()\n",
    "    ax.grid(True, color = 'lightgrey')\n",
    "\n",
    "plt.show()"
   ]
  },
  {
   "cell_type": "code",
   "execution_count": null,
   "metadata": {},
   "outputs": [],
   "source": [
    "branchOutput = deepONET.branchNN(testBranchInput)\n",
    "print(branchOutput.shape)\n",
    "\n",
    "trunkOutput = deepONET.trunkNN(testTrunkInput)\n",
    "print(trunkOutput.shape)"
   ]
  },
  {
   "cell_type": "code",
   "execution_count": null,
   "metadata": {},
   "outputs": [],
   "source": [
    "fig, ax = plt.subplots(2, 1, figsize=(10,9))\n",
    "\n",
    "for i in range(20):\n",
    "    ax[0].plot(testDomain, branchOutput[:, i], '-', color = \"C0\", alpha = 0.5)\n",
    "    ax[0].plot(testDomain, trunkOutput[:, i], '-', color = \"C1\", alpha = 0.5)\n",
    "\n",
    "ax[0].grid(True, color = 'lightgrey')\n",
    "\n",
    "for i in range(100):\n",
    "    ax[1].plot(branchOutput[i, :], '-', color = \"C0\", alpha = 0.5)\n",
    "    ax[1].plot(trunkOutput[i, :], '-', color = \"C1\", alpha = 0.5)\n",
    "\n",
    "ax[1].grid(True, color = 'lightgrey')\n",
    "\n",
    "plt.show()"
   ]
  },
  {
   "cell_type": "code",
   "execution_count": null,
   "metadata": {},
   "outputs": [],
   "source": [
    "testDomain = np.linspace(0, 1, 100)\n",
    "testU = createSamples(lengthScale=0.05, k=1, domain=testDomain)\n",
    "groundTruth = solutions(u=testU, t=testDomain).reshape(-1, 1)\n",
    "\n",
    "print(testDomain.shape)\n",
    "print(testU.shape)\n",
    "print(groundTruth.shape)"
   ]
  },
  {
   "cell_type": "code",
   "execution_count": null,
   "metadata": {},
   "outputs": [],
   "source": [
    "fig, ax = plt.subplots(1, 1, figsize=(10, 9))\n",
    "\n",
    "ax.plot(testDomain, testU.reshape(100, ), label = \"Profile\")\n",
    "ax.plot(testDomain, groundTruth, linestyle = \"-.\", label = \"Ground Truth\")\n",
    "\n",
    "ax.set_xlabel(\"$x$\")\n",
    "ax.set_ylabel(\"$f(x)$\")\n",
    "ax.tick_params(axis='x', labelcolor = 'tab:blue')\n",
    "ax.legend()\n",
    "ax.grid(True, color='lightgrey')\n",
    "\n",
    "plt.show()"
   ]
  },
  {
   "cell_type": "code",
   "execution_count": null,
   "metadata": {},
   "outputs": [],
   "source": [
    "testBranchInput = np.array([testU for i in range(testDomain.shape[0])]).reshape(-1, 100)\n",
    "print(testBranchInput.shape)\n",
    "testTrunkInput = testDomain.reshape(-1, 1)\n",
    "print(testTrunkInput.shape)\n",
    "\n",
    "preds = deepONET.predict([testBranchInput, testTrunkInput])\n",
    "print(preds.shape)"
   ]
  },
  {
   "cell_type": "code",
   "execution_count": null,
   "metadata": {},
   "outputs": [],
   "source": [
    "fig, ax = plt.subplots(2, 1, figsize=(10, 9))\n",
    "\n",
    "ax[0].plot(testDomain, testU.reshape(100, ), label = \"Profile\")\n",
    "ax[0].plot(testDomain, groundTruth, linestyle = \"-.\", label = \"Ground Truth\")\n",
    "ax[0].plot(testDomain, preds.reshape(100, ), linestyle = \":\", label = \"Prediction\")\n",
    "\n",
    "ax[0].set_xlabel(\"$x$\")\n",
    "ax[0].set_ylabel(\"$f(x)$\")\n",
    "ax[0].tick_params(axis='x', labelcolor = 'tab:blue')\n",
    "ax[0].legend()\n",
    "ax[0].grid(True, color='lightgrey')\n",
    "\n",
    "ax[1].plot(testDomain, preds - groundTruth, \".\", color = \"tab:red\", label = \"Residuals\")\n",
    "ax[1].axhline(0, linestyle = \":\", color = \"k\")\n",
    "\n",
    "ax[1].set_xlabel(\"$x$\")\n",
    "ax[1].set_ylabel(\"Residual\")\n",
    "ax[1].tick_params(axis='x', labelcolor = 'tab:blue')\n",
    "ax[1].legend()\n",
    "ax[1].grid(True, color='lightgrey')\n",
    "\n",
    "plt.show()"
   ]
  },
  {
   "cell_type": "code",
   "execution_count": null,
   "metadata": {},
   "outputs": [],
   "source": [
    "branchOutput = deepONET.branchNN(testBranchInput)\n",
    "print(branchOutput.shape)\n",
    "\n",
    "trunkOutput = deepONET.trunkNN(testTrunkInput)\n",
    "print(trunkOutput.shape)"
   ]
  },
  {
   "cell_type": "code",
   "execution_count": null,
   "metadata": {},
   "outputs": [],
   "source": [
    "fig, ax = plt.subplots(2, 1, figsize=(10,9))\n",
    "\n",
    "for i in range(20):\n",
    "    ax[0].plot(testDomain, branchOutput[:, i], '-', color = \"C0\", alpha = 0.5)\n",
    "    ax[0].plot(testDomain, trunkOutput[:, i], '-', color = \"C1\", alpha = 0.5)\n",
    "\n",
    "ax[0].grid(True, color = 'lightgrey')\n",
    "\n",
    "for i in range(100):\n",
    "    ax[1].plot(branchOutput[i, :], '-', color = \"C0\", alpha = 0.5)\n",
    "    ax[1].plot(trunkOutput[i, :], '-', color = \"C1\", alpha = 0.5)\n",
    "\n",
    "ax[1].grid(True, color = 'lightgrey')\n",
    "\n",
    "plt.show()"
   ]
  },
  {
   "cell_type": "code",
   "execution_count": null,
   "metadata": {},
   "outputs": [],
   "source": [
    "log_dir = os.path.join(\".\", \"assets\", \"logs\", \"fits\", f\"DeepOPINN_{datetime.datetime.now().strftime('%Y%m%d-%H%M%S')}\")\n",
    "tensorboard_callback = tf.keras.callbacks.TensorBoard(log_dir=log_dir, histogram_freq=1, write_images=True, profile_batch=True, )\n",
    "\n",
    "fileWriter = tf.summary.create_file_writer(os.path.join(log_dir, \"metrics\"))\n",
    "fileWriter.set_as_default()"
   ]
  },
  {
   "cell_type": "code",
   "execution_count": null,
   "metadata": {},
   "outputs": [],
   "source": [
    "modelPath = os.path.join(\".\", \"assets\", \"ml\", \"DeepOPINN\", \"deepOPINN.h5\")\n",
    "model_checkpoint_callback = tf.keras.callbacks.ModelCheckpoint(filepath=modelPath, monitor='val_loss', save_best_only=True, save_weights_only=True)"
   ]
  },
  {
   "cell_type": "code",
   "execution_count": null,
   "metadata": {},
   "outputs": [],
   "source": [
    "pinnCallback = LogPINNLossesCallback()\n",
    "predictionsCallback = PredictOnEpochEndCallback(examples=examples, solutions=sols)"
   ]
  },
  {
   "cell_type": "code",
   "execution_count": null,
   "metadata": {},
   "outputs": [],
   "source": [
    "learning_rate_callback = tf.keras.callbacks.ReduceLROnPlateau(factor=0.9, patience=50, min_lr=1e-9)\n",
    "_callbacks = [tensorboard_callback, model_checkpoint_callback, learning_rate_callback, pinnCallback, predictionsCallback]\n",
    "callbacks = tf.keras.callbacks.CallbackList(_callbacks, add_history=False)"
   ]
  },
  {
   "cell_type": "code",
   "execution_count": null,
   "metadata": {},
   "outputs": [],
   "source": [
    "branchHiddenLayers = [tf.keras.layers.Dense(20, activation = 'tanh', name = f\"branchNETDense_layer{i+1}\") for i in range(5)]\n",
    "trunkHiddenLayers = [tf.keras.layers.Dense(20, activation = 'tanh', name = f\"trunkNETDense_layer{i+1}\") for i in range(5)]\n",
    "\n",
    "branchNET = BranchNN(hiddenLayers=branchHiddenLayers, input_shape=(100,))\n",
    "trunkNET = TrunkNN(hiddenLayers=trunkHiddenLayers, input_shape=(1,))\n",
    "deepOPINN = DeepOPINN(branchNN=branchNET, trunkNN=trunkNET)"
   ]
  },
  {
   "cell_type": "code",
   "execution_count": null,
   "metadata": {},
   "outputs": [],
   "source": [
    "optimizer = tf.keras.optimizers.Adam(learning_rate=1e-3, beta_1=0.9, beta_2=0.999)\n",
    "deepOPINN.compile(optimizer=optimizer, loss='mse', metrics=['mae', tf.keras.losses.MeanAbsolutePercentageError(), tf.keras.metrics.RootMeanSquaredError()])"
   ]
  },
  {
   "cell_type": "code",
   "execution_count": null,
   "metadata": {},
   "outputs": [],
   "source": [
    "deepOPINN.build(input_shape=[(None, 100), (None, 1)])"
   ]
  },
  {
   "cell_type": "code",
   "execution_count": null,
   "metadata": {},
   "outputs": [],
   "source": [
    "deepOPINN.summary()"
   ]
  },
  {
   "cell_type": "code",
   "execution_count": null,
   "metadata": {},
   "outputs": [],
   "source": [
    "deepOPINN.fit(x=X_train, y=y_train, epochs=500, verbose=False, batch_size=100, validation_data=(X_val, y_val), callbacks=_callbacks)"
   ]
  },
  {
   "cell_type": "code",
   "execution_count": null,
   "metadata": {},
   "outputs": [],
   "source": [
    "fig, ax = plt.subplots(2, 2, figsize=(16, 16))\n",
    "\n",
    "ax[0][0].plot(deepOPINN.lossTracker.loss_history['traditional_loss'], label = \"Traditional Loss\")\n",
    "ax[0][0].grid(True, color = \"lightgrey\")\n",
    "ax[0][0].legend()\n",
    "ax[0][0].set_yscale('log')\n",
    "\n",
    "ax[0][1].plot(deepOPINN.lossTracker.loss_history['IC_loss'], label = \"IC Loss\")\n",
    "ax[0][1].grid(True, color = \"lightgrey\")\n",
    "ax[0][1].legend()\n",
    "ax[0][1].set_yscale('log')\n",
    "\n",
    "ax[1][0].plot(deepOPINN.lossTracker.loss_history['physics_loss'], label = \"Physics Loss\")\n",
    "ax[1][0].grid(True, color = \"lightgrey\")\n",
    "ax[1][0].legend()\n",
    "ax[1][0].set_yscale('log')\n",
    "\n",
    "ax[1][1].plot(deepOPINN.lossTracker.loss_history['total_loss'], label = \"Combined Loss\")\n",
    "ax[1][1].grid(True, color = \"lightgrey\")\n",
    "ax[1][1].legend()\n",
    "ax[1][1].set_yscale('log')\n",
    "\n",
    "plt.show()"
   ]
  },
  {
   "cell_type": "code",
   "execution_count": null,
   "metadata": {},
   "outputs": [],
   "source": [
    "deepOPINN.load_weights(filepath=modelPath)\n",
    "\n",
    "testDomain = np.linspace(0, 1, 100)\n",
    "testU = createSamples(lengthScale=0.2, k=1, domain=testDomain)\n",
    "groundTruth = solutions(u=testU, t=testDomain).reshape(-1, 1)\n",
    "\n",
    "print(testDomain.shape)\n",
    "print(testU.shape)\n",
    "print(groundTruth.shape)"
   ]
  },
  {
   "cell_type": "code",
   "execution_count": null,
   "metadata": {},
   "outputs": [],
   "source": [
    "fig, ax = plt.subplots(1, 1, figsize=(10, 9))\n",
    "\n",
    "ax.plot(testDomain, testU.reshape(100, ), label = \"Profile\")\n",
    "ax.plot(testDomain, groundTruth, linestyle = \"-.\", label = \"Ground Truth\")\n",
    "\n",
    "ax.set_xlabel(\"$x$\")\n",
    "ax.set_ylabel(\"$f(x)$\")\n",
    "ax.tick_params(axis='x', labelcolor = 'tab:blue')\n",
    "ax.legend()\n",
    "ax.grid(True, color='lightgrey')\n",
    "\n",
    "plt.show()"
   ]
  },
  {
   "cell_type": "code",
   "execution_count": null,
   "metadata": {},
   "outputs": [],
   "source": [
    "testBranchInput = np.array([testU for i in range(testDomain.shape[0])]).reshape(-1, 100)\n",
    "print(testBranchInput.shape)\n",
    "testTrunkInput = testDomain.reshape(-1, 1)\n",
    "print(testTrunkInput.shape)\n",
    "\n",
    "preds = deepOPINN.predict([testBranchInput, testTrunkInput])\n",
    "print(preds.shape)"
   ]
  },
  {
   "cell_type": "code",
   "execution_count": null,
   "metadata": {},
   "outputs": [],
   "source": [
    "fig, ax = plt.subplots(2, 1, figsize=(10, 9))\n",
    "\n",
    "ax[0].plot(testDomain, testU.reshape(100, ), label = \"Profile\")\n",
    "ax[0].plot(testDomain, groundTruth, linestyle = \"-.\", label = \"Ground Truth\")\n",
    "ax[0].plot(testDomain, preds.reshape(100, ), linestyle = \":\", label = \"Prediction\")\n",
    "\n",
    "ax[0].set_xlabel(\"$x$\")\n",
    "ax[0].set_ylabel(\"$f(x)$\")\n",
    "ax[0].tick_params(axis='x', labelcolor = 'tab:blue')\n",
    "ax[0].legend()\n",
    "ax[0].grid(True, color='lightgrey')\n",
    "\n",
    "ax[1].plot(testDomain, preds - groundTruth, \".\", color = \"tab:red\", label = \"Residuals\")\n",
    "ax[1].axhline(0, linestyle = \":\", color = \"k\")\n",
    "\n",
    "ax[1].set_xlabel(\"$x$\")\n",
    "ax[1].set_ylabel(\"Residual\")\n",
    "ax[1].tick_params(axis='x', labelcolor = 'tab:blue')\n",
    "ax[1].legend()\n",
    "ax[1].grid(True, color='lightgrey')\n",
    "\n",
    "plt.show()"
   ]
  },
  {
   "cell_type": "code",
   "execution_count": null,
   "metadata": {},
   "outputs": [],
   "source": [
    "pred_test = deepOPINN.predict(X_test)\n",
    "\n",
    "fig, axs = plt.subplots(2, 2, figsize=(16, 16))\n",
    "index = np.random.choice(np.arange(0, N_test), size=4, replace=False)\n",
    "for i in range(4):\n",
    "    ax = axs[i // 2, i % 2]\n",
    "    ax.plot(domain, g_test[index[i]*100], label = f\"Profile at index {index[i]}\")\n",
    "    ax.plot(domain, y_test[index[i]*100:(index[i]+1)*100], \"-.\", label = f\"Solution at index {index[i]}\")\n",
    "    ax.plot(domain, pred_test[index[i]*100:(index[i]+1)*100], \"-.\", label = f\"Prediction at index {index[i]}\")\n",
    "    ax.set_xlabel('t', fontsize=12)\n",
    "    ax.set_ylabel('u(t)', fontsize=12)\n",
    "    ax.legend()\n",
    "    ax.grid(True, color = 'lightgrey')\n",
    "\n",
    "plt.show()"
   ]
  },
  {
   "cell_type": "code",
   "execution_count": null,
   "metadata": {},
   "outputs": [],
   "source": [
    "branchOutput = deepOPINN.branchNN(testBranchInput)\n",
    "print(branchOutput.shape)\n",
    "\n",
    "trunkOutput = deepOPINN.trunkNN(testTrunkInput)\n",
    "print(trunkOutput.shape)"
   ]
  },
  {
   "cell_type": "code",
   "execution_count": null,
   "metadata": {},
   "outputs": [],
   "source": [
    "fig, ax = plt.subplots(2, 1, figsize=(10,9))\n",
    "\n",
    "for i in range(20):\n",
    "    ax[0].plot(testDomain, branchOutput[:, i], '-', color = \"C0\", alpha = 0.5)\n",
    "    ax[0].plot(testDomain, trunkOutput[:, i], '-', color = \"C1\", alpha = 0.5)\n",
    "\n",
    "ax[0].grid(True, color = 'lightgrey')\n",
    "\n",
    "for i in range(100):\n",
    "    ax[1].plot(branchOutput[i, :], '-', color = \"C0\", alpha = 0.5)\n",
    "    ax[1].plot(trunkOutput[i, :], '-', color = \"C1\", alpha = 0.5)\n",
    "\n",
    "ax[1].grid(True, color = 'lightgrey')\n",
    "\n",
    "plt.show()"
   ]
  },
  {
   "cell_type": "code",
   "execution_count": null,
   "metadata": {},
   "outputs": [],
   "source": [
    "testDomain = np.linspace(0, 1, 100)\n",
    "testU = createSamples(lengthScale=0.05, k=1, domain=testDomain)\n",
    "groundTruth = solutions(u=testU, t=testDomain).reshape(-1, 1)\n",
    "\n",
    "print(testDomain.shape)\n",
    "print(testU.shape)\n",
    "print(groundTruth.shape)"
   ]
  },
  {
   "cell_type": "code",
   "execution_count": null,
   "metadata": {},
   "outputs": [],
   "source": [
    "fig, ax = plt.subplots(1, 1, figsize=(10, 9))\n",
    "\n",
    "ax.plot(testDomain, testU.reshape(100, ), label = \"Profile\")\n",
    "ax.plot(testDomain, groundTruth, linestyle = \"-.\", label = \"Ground Truth\")\n",
    "\n",
    "ax.set_xlabel(\"$x$\")\n",
    "ax.set_ylabel(\"$f(x)$\")\n",
    "ax.tick_params(axis='x', labelcolor = 'tab:blue')\n",
    "ax.legend()\n",
    "ax.grid(True, color='lightgrey')\n",
    "\n",
    "plt.show()"
   ]
  },
  {
   "cell_type": "code",
   "execution_count": null,
   "metadata": {},
   "outputs": [],
   "source": [
    "testBranchInput = np.array([testU for i in range(testDomain.shape[0])]).reshape(-1, 100)\n",
    "print(testBranchInput.shape)\n",
    "testTrunkInput = testDomain.reshape(-1, 1)\n",
    "print(testTrunkInput.shape)\n",
    "\n",
    "preds = deepOPINN.predict([testBranchInput, testTrunkInput])\n",
    "print(preds.shape)"
   ]
  },
  {
   "cell_type": "code",
   "execution_count": null,
   "metadata": {},
   "outputs": [],
   "source": [
    "fig, ax = plt.subplots(2, 1, figsize=(10, 9))\n",
    "\n",
    "ax[0].plot(testDomain, testU.reshape(100, ), label = \"Profile\")\n",
    "ax[0].plot(testDomain, groundTruth, linestyle = \"-.\", label = \"Ground Truth\")\n",
    "ax[0].plot(testDomain, preds.reshape(100, ), linestyle = \":\", label = \"Prediction\")\n",
    "\n",
    "ax[0].set_xlabel(\"$x$\")\n",
    "ax[0].set_ylabel(\"$f(x)$\")\n",
    "ax[0].tick_params(axis='x', labelcolor = 'tab:blue')\n",
    "ax[0].legend()\n",
    "ax[0].grid(True, color='lightgrey')\n",
    "\n",
    "ax[1].plot(testDomain, preds - groundTruth, \".\", color = \"tab:red\", label = \"Residuals\")\n",
    "ax[1].axhline(0, linestyle = \":\", color = \"k\")\n",
    "\n",
    "ax[1].set_xlabel(\"$x$\")\n",
    "ax[1].set_ylabel(\"Residual\")\n",
    "ax[1].tick_params(axis='x', labelcolor = 'tab:blue')\n",
    "ax[1].legend()\n",
    "ax[1].grid(True, color='lightgrey')\n",
    "\n",
    "plt.show()"
   ]
  },
  {
   "cell_type": "code",
   "execution_count": null,
   "metadata": {},
   "outputs": [],
   "source": [
    "branchOutput = deepOPINN.branchNN(testBranchInput)\n",
    "print(branchOutput.shape)\n",
    "\n",
    "trunkOutput = deepOPINN.trunkNN(testTrunkInput)\n",
    "print(trunkOutput.shape)"
   ]
  },
  {
   "cell_type": "code",
   "execution_count": null,
   "metadata": {},
   "outputs": [],
   "source": [
    "fig, ax = plt.subplots(2, 1, figsize=(10,9))\n",
    "\n",
    "for i in range(20):\n",
    "    ax[0].plot(testDomain, branchOutput[:, i], '-', color = \"C0\", alpha = 0.5)\n",
    "    ax[0].plot(testDomain, trunkOutput[:, i], '-', color = \"C1\", alpha = 0.5)\n",
    "\n",
    "ax[0].grid(True, color = 'lightgrey')\n",
    "\n",
    "for i in range(100):\n",
    "    ax[1].plot(branchOutput[i, :], '-', color = \"C0\", alpha = 0.5)\n",
    "    ax[1].plot(trunkOutput[i, :], '-', color = \"C1\", alpha = 0.5)\n",
    "\n",
    "ax[1].grid(True, color = 'lightgrey')\n",
    "\n",
    "plt.show()"
   ]
  },
  {
   "cell_type": "code",
   "execution_count": null,
   "metadata": {},
   "outputs": [],
   "source": []
  }
 ],
 "metadata": {
  "kernelspec": {
   "display_name": "Python 3",
   "language": "python",
   "name": "python3"
  },
  "language_info": {
   "codemirror_mode": {
    "name": "ipython",
    "version": 3
   },
   "file_extension": ".py",
   "mimetype": "text/x-python",
   "name": "python",
   "nbconvert_exporter": "python",
   "pygments_lexer": "ipython3",
   "version": "3.11.6"
  }
 },
 "nbformat": 4,
 "nbformat_minor": 2
}
