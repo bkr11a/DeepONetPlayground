{
 "cells": [
  {
   "cell_type": "code",
   "execution_count": null,
   "metadata": {},
   "outputs": [],
   "source": [
    "%load_ext tensorboard"
   ]
  },
  {
   "cell_type": "code",
   "execution_count": null,
   "metadata": {},
   "outputs": [],
   "source": [
    "import os\n",
    "import datetime\n",
    "\n",
    "import numpy as np\n",
    "import tensorflow as tf\n",
    "import matplotlib.pyplot as plt\n",
    "\n",
    "from assets.ml.DeepONetwork import TrunkNN\n",
    "from assets.ml.DeepONetwork import BranchNN\n",
    "from assets.ml.DeepONetwork import DeepONET\n",
    "from assets.ml.DeepONetwork import DeepOPINN"
   ]
  },
  {
   "cell_type": "code",
   "execution_count": null,
   "metadata": {},
   "outputs": [],
   "source": [
    "log_dir = os.path.join(\".\", \"assets\", \"logs\", \"fits\", f\"{datetime.datetime.now().strftime('%Y%m%d-%H%M%S')}\")\n",
    "tensorboard_callback = tf.keras.callbacks.TensorBoard(log_dir=log_dir, histogram_freq=1)"
   ]
  },
  {
   "cell_type": "code",
   "execution_count": null,
   "metadata": {},
   "outputs": [],
   "source": [
    "branchHiddenLayers = [tf.keras.layers.Dense(20, activation = 'tanh', name = f\"branchNETDense_layer{i+1}\") for i in range(5)]\n",
    "trunkHiddenLayers = [tf.keras.layers.Dense(20, activation = 'tanh', name = f\"trunkNETDense_layer{i+1}\") for i in range(5)]\n",
    "\n",
    "\n",
    "branchNET = BranchNN(hiddenLayers=branchHiddenLayers, input_shape=(100,))\n",
    "trunkNET = TrunkNN(hiddenLayers=trunkHiddenLayers, input_shape=(1,))\n",
    "deepONET = DeepONET(branchNN=branchNET, trunkNN=trunkNET)"
   ]
  },
  {
   "cell_type": "code",
   "execution_count": null,
   "metadata": {},
   "outputs": [],
   "source": [
    "domain = np.linspace(0, 1, 100)"
   ]
  },
  {
   "cell_type": "code",
   "execution_count": null,
   "metadata": {},
   "outputs": [],
   "source": [
    "def f(x):\n",
    "    return np.sin(2*np.pi*x)\n",
    "\n",
    "def g(x):\n",
    "    return np.cos(2*np.pi*x)"
   ]
  },
  {
   "cell_type": "code",
   "execution_count": null,
   "metadata": {},
   "outputs": [],
   "source": [
    "u = f(domain)\n",
    "v = g(domain)"
   ]
  },
  {
   "cell_type": "code",
   "execution_count": null,
   "metadata": {},
   "outputs": [],
   "source": [
    "fig, ax = plt.subplots(1, 1, figsize=(10, 9))\n",
    "\n",
    "ax.plot(domain, u, label = \"$f(x)$\")\n",
    "ax.plot(domain, v, label = \"$f^{'}(x)$\")\n",
    "ax.set_xlabel(\"$x$\")\n",
    "ax.set_ylabel(\"$f(x)$\")\n",
    "ax.tick_params(axis='x', labelcolor = 'tab:blue')\n",
    "ax.grid(True, color='lightgrey')\n",
    "ax.legend()\n",
    "\n",
    "ax2 = ax.twiny()\n",
    "ax2.plot(u, v, color=\"C3\", label = \"f(x) vs $f^{'}(x)$\")\n",
    "ax2.set_xlabel(\"$f^{'}(x)$\")\n",
    "ax2.set_ylabel(\"$f(x)$\")\n",
    "ax2.grid(True, color='darkgrey')\n",
    "ax2.tick_params(axis='x', labelcolor = 'tab:red')\n",
    "ax2.legend()\n",
    "\n",
    "plt.show()"
   ]
  },
  {
   "cell_type": "code",
   "execution_count": null,
   "metadata": {},
   "outputs": [],
   "source": [
    "n = 100\n",
    "\n",
    "branch_input = np.array([f(domain) for i in range(n)]).reshape(-1, 100)\n",
    "print(branch_input.shape)\n",
    "\n",
    "trunk_input = domain.reshape(-1, 1)\n",
    "print(trunk_input.shape)\n",
    "\n",
    "y = g(domain).reshape(-1, 1)\n",
    "print(y.shape)\n",
    "\n",
    "optimizer = tf.keras.optimizers.Adam(learning_rate=1e-3, beta_1=0.9, beta_2=0.999)\n",
    "deepONET.compile(optimizer=optimizer, loss='mse', metrics=['mae'])"
   ]
  },
  {
   "cell_type": "code",
   "execution_count": null,
   "metadata": {},
   "outputs": [],
   "source": [
    "deepONET.build(input_shape=[(None, 100), (None, 1)])"
   ]
  },
  {
   "cell_type": "code",
   "execution_count": null,
   "metadata": {},
   "outputs": [],
   "source": [
    "deepONET.summary()"
   ]
  },
  {
   "cell_type": "code",
   "execution_count": null,
   "metadata": {},
   "outputs": [],
   "source": [
    "deepONET.fit(x=[branch_input, trunk_input], y=y, epochs=1500, verbose=True, batch_size=16, validation_split=0.3, callbacks=tensorboard_callback)"
   ]
  },
  {
   "cell_type": "code",
   "execution_count": null,
   "metadata": {},
   "outputs": [],
   "source": [
    "%tensorboard --logdir ./assets/logs --port=8080"
   ]
  },
  {
   "cell_type": "code",
   "execution_count": null,
   "metadata": {},
   "outputs": [],
   "source": [
    "preds = deepONET.predict([branch_input, trunk_input])"
   ]
  },
  {
   "cell_type": "code",
   "execution_count": null,
   "metadata": {},
   "outputs": [],
   "source": [
    "print(preds)\n",
    "print(preds.shape)"
   ]
  },
  {
   "cell_type": "code",
   "execution_count": null,
   "metadata": {},
   "outputs": [],
   "source": [
    "fig, ax = plt.subplots(1, 1, figsize=(10, 9))\n",
    "\n",
    "ax.plot(domain, g(domain), label = \"Ground Truth\")\n",
    "ax.plot(domain, preds, label = \"Predicted\")\n",
    "ax.set_xlabel(\"$x$\")\n",
    "ax.set_ylabel(\"$f(x)$\")\n",
    "ax.tick_params(axis='x', labelcolor = 'tab:blue')\n",
    "ax.grid(True, color='lightgrey')\n",
    "ax.legend()\n",
    "\n",
    "plt.show()"
   ]
  },
  {
   "cell_type": "code",
   "execution_count": null,
   "metadata": {},
   "outputs": [],
   "source": []
  }
 ],
 "metadata": {
  "kernelspec": {
   "display_name": "Python 3",
   "language": "python",
   "name": "python3"
  },
  "language_info": {
   "codemirror_mode": {
    "name": "ipython",
    "version": 3
   },
   "file_extension": ".py",
   "mimetype": "text/x-python",
   "name": "python",
   "nbconvert_exporter": "python",
   "pygments_lexer": "ipython3",
   "version": "3.11.6"
  }
 },
 "nbformat": 4,
 "nbformat_minor": 2
}
