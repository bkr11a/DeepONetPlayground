{
 "cells": [
  {
   "cell_type": "code",
   "execution_count": null,
   "metadata": {},
   "outputs": [],
   "source": [
    "%load_ext tensorboard"
   ]
  },
  {
   "cell_type": "code",
   "execution_count": null,
   "metadata": {},
   "outputs": [],
   "source": [
    "import os\n",
    "import datetime\n",
    "\n",
    "from collections import defaultdict\n",
    "\n",
    "import numpy as np\n",
    "import tensorflow as tf\n",
    "import matplotlib.pyplot as plt\n",
    "\n",
    "from tqdm import tqdm\n",
    "from scipy.integrate import solve_ivp\n",
    "from sklearn.gaussian_process.kernels import RBF\n",
    "from sklearn.gaussian_process import GaussianProcessRegressor\n",
    "from sklearn.metrics import mean_absolute_percentage_error, mean_squared_error\n",
    "\n",
    "from assets.ml.DeepONetwork import TrunkNN\n",
    "from assets.ml.DeepONetwork import BranchNN\n",
    "from assets.ml.DeepONetwork import DeepONET\n",
    "from assets.ml.DeepONetwork import DeepOPINN\n",
    "from assets.ml.DeepONetwork import LogPINNLossesCallback"
   ]
  },
  {
   "cell_type": "code",
   "execution_count": null,
   "metadata": {},
   "outputs": [],
   "source": [
    "def createSamples(lengthScale, k, domain):\n",
    "    kernel = RBF(length_scale=lengthScale)\n",
    "    GP = GaussianProcessRegressor(kernel=kernel)\n",
    "    u_sample = np.zeros((k, 100))\n",
    "    for i in range(k):\n",
    "        n = np.random.randint(0, 10000)\n",
    "        u_sample[i, :] = GP.sample_y(domain.reshape(-1, 1), random_state=n).flatten()\n",
    "\n",
    "    return u_sample"
   ]
  },
  {
   "cell_type": "code",
   "execution_count": null,
   "metadata": {},
   "outputs": [],
   "source": [
    "def solutions(u, t):\n",
    "    sols = []\n",
    "    for i in tqdm(range(u.shape[0]), desc=\"Generating Solutions\", ncols=90):\n",
    "        sol = solve_ivp(lambda var_t, var_s: np.interp(var_t, t.flatten(), u[i, :]), t_span=[0, 1], y0=[0], t_eval=t.flatten(), method='RK45')\n",
    "        sols.append(sol.y[0].reshape(-1, 1))\n",
    "\n",
    "    return np.array(sols)"
   ]
  },
  {
   "cell_type": "code",
   "execution_count": null,
   "metadata": {},
   "outputs": [],
   "source": [
    "def generate_dataset(N, length_scale, ODE_solve=False):\n",
    "    \"\"\"Generate dataset for Physics-informed DeepONet training.\n",
    "    \n",
    "    Args:\n",
    "    ----\n",
    "    N: int, number of u(·) profiles\n",
    "    length_scale: float, length scale for RBF kernel\n",
    "    ODE_solve: boolean, indicate whether to compute the corresponding s(·)\n",
    "    \n",
    "    Outputs:\n",
    "    --------\n",
    "    X: the dataset for t, u(·) profiles, and u(t)\n",
    "    y: the dataset for the corresponding ODE solution s(·)\n",
    "    \"\"\"\n",
    "    \n",
    "    # Create random fields\n",
    "    random_field = createSamples(length_scale, N, domain=np.linspace(0, 1, 100))\n",
    "    \n",
    "    # Compile dataset\n",
    "    X = np.zeros((N*100, 100+2))\n",
    "    y = np.zeros((N*100, 1))\n",
    "\n",
    "    for i in tqdm(range(N), desc=\"Generating Data\", ncols = 80):\n",
    "        u = np.tile(random_field[i, :], (100, 1))\n",
    "        t = np.linspace(0, 1, 100).reshape(-1, 1)\n",
    "\n",
    "        # u(·) evaluated at t\n",
    "        u_t = np.diag(u).reshape(-1, 1)\n",
    "\n",
    "        # Update overall matrix\n",
    "        X[i*100:(i+1)*100, :] = np.concatenate((t, u, u_t), axis=1)\n",
    "\n",
    "        # Solve ODE\n",
    "        if ODE_solve:\n",
    "            sol = solve_ivp(lambda var_t, var_s: np.interp(var_t, t.flatten(), random_field[i, :]), \n",
    "                            t_span=[0, 1], y0=[0], t_eval=t.flatten(), method='RK45')\n",
    "            y[i*100:(i+1)*100, :] = sol.y[0].reshape(-1, 1)\n",
    "        \n",
    "    return X, y"
   ]
  },
  {
   "cell_type": "code",
   "execution_count": null,
   "metadata": {},
   "outputs": [],
   "source": [
    "# Create training dataset\n",
    "N_train = 1000\n",
    "length_scale_train = 0.5\n",
    "X_train, y_train = generate_dataset(N_train, length_scale_train, ODE_solve=True)\n",
    "\n",
    "# Create validation dataset\n",
    "N_val = 500\n",
    "length_scale_test = 0.3\n",
    "X_val, y_val = generate_dataset(N_val, length_scale_test, ODE_solve=True)\n",
    "\n",
    "# Create testing dataset\n",
    "N_test = 500\n",
    "length_scale_test = 0.2\n",
    "X_test, y_test = generate_dataset(N_test, length_scale_test, ODE_solve=True)"
   ]
  },
  {
   "cell_type": "code",
   "execution_count": null,
   "metadata": {},
   "outputs": [],
   "source": [
    "X_train = tf.convert_to_tensor(X_train, dtype=tf.float32)\n",
    "X_val = tf.convert_to_tensor(X_val, dtype=tf.float32)\n",
    "X_test = tf.convert_to_tensor(X_test, dtype=tf.float32)"
   ]
  },
  {
   "cell_type": "code",
   "execution_count": null,
   "metadata": {},
   "outputs": [],
   "source": [
    "# Restructure the trainging dataset\n",
    "t_train = X_train[:, :1]\n",
    "g_train = X_train[:, 1:-1]\n",
    "gt_train = X_train[:, -1:]\n",
    "\n",
    "X_train = [g_train, t_train, gt_train]\n",
    "\n",
    "# Restructure the validation dataset\n",
    "t_val = X_val[:, :1]\n",
    "g_val = X_val[:, 1:-1]\n",
    "gt_val = X_val[:, -1:]\n",
    "\n",
    "X_val = [g_val, t_val, gt_val]\n",
    "\n",
    "# Restructure the test dataset\n",
    "t_test = X_test[:, :1]\n",
    "g_test = X_test[:, 1:-1]\n",
    "gt_test = X_test[:, -1:]\n",
    "\n",
    "X_test = [g_test, t_test, gt_test]"
   ]
  },
  {
   "cell_type": "code",
   "execution_count": null,
   "metadata": {},
   "outputs": [],
   "source": [
    "domain = np.linspace(0, 1, 100)\n",
    "\n",
    "fig, axs = plt.subplots(2, 2, figsize=(16, 16))\n",
    "\n",
    "index = np.random.choice(np.arange(0, N_train), size=4, replace=False)\n",
    "\n",
    "for i in range(4):\n",
    "    ax = axs[i // 2][i % 2]\n",
    "    ax.plot(domain, g_train[index[i]*100], label = f\"Profile at index {index[i]}\")\n",
    "    ax.plot(domain, y_train[index[i]*100:(index[i]+1)*100], \"-.\", label = f\"Solution at index {index[i]}\")\n",
    "    ax.set_xlabel('t', fontsize=12)\n",
    "    ax.set_ylabel('u(t)', fontsize=12)\n",
    "    ax.legend()\n",
    "    ax.grid(True, color = 'lightgrey')\n",
    "\n",
    "plt.show()"
   ]
  },
  {
   "cell_type": "code",
   "execution_count": null,
   "metadata": {},
   "outputs": [],
   "source": [
    "log_dir = os.path.join(\".\", \"assets\", \"logs\", \"fits\", f\"DeepONET_{datetime.datetime.now().strftime('%Y%m%d-%H%M%S')}\")\n",
    "tensorboard_callback = tf.keras.callbacks.TensorBoard(log_dir=log_dir, histogram_freq=1, write_images=True, profile_batch= '10, 110')"
   ]
  },
  {
   "cell_type": "code",
   "execution_count": null,
   "metadata": {},
   "outputs": [],
   "source": [
    "%tensorboard --logdir ./assets/logs --port=8081"
   ]
  },
  {
   "cell_type": "code",
   "execution_count": null,
   "metadata": {},
   "outputs": [],
   "source": [
    "modelPath = os.path.join(\".\", \"assets\", \"ml\", \"DeepONET\", \"deepONET.h5\")\n",
    "model_checkpoint_callback = tf.keras.callbacks.ModelCheckpoint(filepath=modelPath, monitor='val_loss', save_best_only=True, save_weights_only=True)"
   ]
  },
  {
   "cell_type": "code",
   "execution_count": null,
   "metadata": {},
   "outputs": [],
   "source": [
    "learning_rate_callback = tf.keras.callbacks.ReduceLROnPlateau(factor=0.9, patience=50, min_lr=1e-9)\n",
    "_callbacks = [tensorboard_callback, model_checkpoint_callback, learning_rate_callback]\n",
    "callbacks = tf.keras.callbacks.CallbackList(_callbacks, add_history=False)"
   ]
  },
  {
   "cell_type": "code",
   "execution_count": null,
   "metadata": {},
   "outputs": [],
   "source": [
    "branchHiddenLayers = [tf.keras.layers.Dense(20, activation = 'tanh', name = f\"branchNETDense_layer{i+1}\") for i in range(5)]\n",
    "trunkHiddenLayers = [tf.keras.layers.Dense(20, activation = 'tanh', name = f\"trunkNETDense_layer{i+1}\") for i in range(5)]\n",
    "\n",
    "\n",
    "branchNET = BranchNN(hiddenLayers=branchHiddenLayers, input_shape=(100,))\n",
    "trunkNET = TrunkNN(hiddenLayers=trunkHiddenLayers, input_shape=(1,))\n",
    "deepONET = DeepONET(branchNN=branchNET, trunkNN=trunkNET)"
   ]
  },
  {
   "cell_type": "code",
   "execution_count": null,
   "metadata": {},
   "outputs": [],
   "source": [
    "optimizer = tf.keras.optimizers.Adam(learning_rate=1e-3, beta_1=0.9, beta_2=0.999)\n",
    "deepONET.compile(optimizer=optimizer, loss='mse', metrics=['mae', tf.keras.losses.MeanAbsolutePercentageError(), tf.keras.metrics.RootMeanSquaredError()])"
   ]
  },
  {
   "cell_type": "code",
   "execution_count": null,
   "metadata": {},
   "outputs": [],
   "source": [
    "deepONET.build(input_shape=[(None, 100), (None, 1)])"
   ]
  },
  {
   "cell_type": "code",
   "execution_count": null,
   "metadata": {},
   "outputs": [],
   "source": [
    "deepONET.summary()"
   ]
  },
  {
   "cell_type": "code",
   "execution_count": null,
   "metadata": {},
   "outputs": [],
   "source": [
    "deepONET.fit(x=X_train, y=y_train, epochs=5000, verbose=False, batch_size=100, validation_data=(X_val, y_val), callbacks=_callbacks)"
   ]
  },
  {
   "cell_type": "code",
   "execution_count": null,
   "metadata": {},
   "outputs": [],
   "source": [
    "deepONET.load_weights(filepath=modelPath)\n",
    "\n",
    "testDomain = np.linspace(0, 1, 100)\n",
    "testU = createSamples(lengthScale=0.2, k=1, domain=testDomain)\n",
    "groundTruth = solutions(u=testU, t=testDomain).reshape(-1, 1)\n",
    "\n",
    "print(testDomain.shape)\n",
    "print(testU.shape)\n",
    "print(groundTruth.shape)"
   ]
  },
  {
   "cell_type": "code",
   "execution_count": null,
   "metadata": {},
   "outputs": [],
   "source": [
    "fig, ax = plt.subplots(1, 1, figsize=(10, 9))\n",
    "\n",
    "ax.plot(testDomain, testU.reshape(100, ), label = \"Profile\")\n",
    "ax.plot(testDomain, groundTruth, linestyle = \"-.\", label = \"Ground Truth\")\n",
    "\n",
    "ax.set_xlabel(\"$x$\")\n",
    "ax.set_ylabel(\"$f(x)$\")\n",
    "ax.tick_params(axis='x', labelcolor = 'tab:blue')\n",
    "ax.legend()\n",
    "ax.grid(True, color='lightgrey')\n",
    "\n",
    "plt.show()"
   ]
  },
  {
   "cell_type": "code",
   "execution_count": null,
   "metadata": {},
   "outputs": [],
   "source": [
    "testBranchInput = np.array([testU for i in range(testDomain.shape[0])]).reshape(-1, 100)\n",
    "print(testBranchInput.shape)\n",
    "testTrunkInput = testDomain.reshape(-1, 1)\n",
    "print(testTrunkInput.shape)\n",
    "\n",
    "preds = deepONET.predict([testBranchInput, testTrunkInput])\n",
    "print(preds.shape)"
   ]
  },
  {
   "cell_type": "code",
   "execution_count": null,
   "metadata": {},
   "outputs": [],
   "source": [
    "fig, ax = plt.subplots(2, 1, figsize=(10, 9))\n",
    "\n",
    "ax[0].plot(testDomain, testU.reshape(100, ), label = \"Profile\")\n",
    "ax[0].plot(testDomain, groundTruth, linestyle = \"-.\", label = \"Ground Truth\")\n",
    "ax[0].plot(testDomain, preds.reshape(100, ), linestyle = \":\", label = \"Prediction\")\n",
    "\n",
    "ax[0].set_xlabel(\"$x$\")\n",
    "ax[0].set_ylabel(\"$f(x)$\")\n",
    "ax[0].tick_params(axis='x', labelcolor = 'tab:blue')\n",
    "ax[0].legend()\n",
    "ax[0].grid(True, color='lightgrey')\n",
    "\n",
    "ax[1].plot(testDomain, preds - groundTruth, \".\", color = \"tab:red\", label = \"Residuals\")\n",
    "ax[1].axhline(0, linestyle = \":\", color = \"k\")\n",
    "\n",
    "ax[1].set_xlabel(\"$x$\")\n",
    "ax[1].set_ylabel(\"Residual\")\n",
    "ax[1].tick_params(axis='x', labelcolor = 'tab:blue')\n",
    "ax[1].legend()\n",
    "ax[1].grid(True, color='lightgrey')\n",
    "\n",
    "plt.show()"
   ]
  },
  {
   "cell_type": "code",
   "execution_count": null,
   "metadata": {},
   "outputs": [],
   "source": [
    "pred_test = deepONET.predict(X_test)\n",
    "\n",
    "fig, axs = plt.subplots(2, 2, figsize=(16, 16))\n",
    "index = np.random.choice(np.arange(0, N_test), size=4, replace=False)\n",
    "for i in range(4):\n",
    "    ax = axs[i // 2, i % 2]\n",
    "    ax.plot(domain, g_test[index[i]*100], label = f\"Profile at index {index[i]}\")\n",
    "    ax.plot(domain, y_test[index[i]*100:(index[i]+1)*100], \"-.\", label = f\"Solution at index {index[i]}\")\n",
    "    ax.plot(domain, pred_test[index[i]*100:(index[i]+1)*100], \"-.\", label = f\"Prediction at index {index[i]}\")\n",
    "    ax.set_xlabel('t', fontsize=12)\n",
    "    ax.set_ylabel('u(t)', fontsize=12)\n",
    "    ax.legend()\n",
    "    ax.grid(True, color = 'lightgrey')\n",
    "\n",
    "plt.show()"
   ]
  },
  {
   "cell_type": "code",
   "execution_count": null,
   "metadata": {},
   "outputs": [],
   "source": [
    "branchOutput = deepONET.branchNN(testBranchInput)\n",
    "print(branchOutput.shape)\n",
    "\n",
    "trunkOutput = deepONET.trunkNN(testTrunkInput)\n",
    "print(trunkOutput.shape)"
   ]
  },
  {
   "cell_type": "code",
   "execution_count": null,
   "metadata": {},
   "outputs": [],
   "source": [
    "fig, ax = plt.subplots(2, 1, figsize=(10,9))\n",
    "\n",
    "for i in range(20):\n",
    "    ax[0].plot(testDomain, branchOutput[:, i], '-', color = \"C0\", alpha = 0.5)\n",
    "    ax[0].plot(testDomain, trunkOutput[:, i], '-', color = \"C1\", alpha = 0.5)\n",
    "\n",
    "ax[0].grid(True, color = 'lightgrey')\n",
    "\n",
    "for i in range(100):\n",
    "    ax[1].plot(branchOutput[i, :], '-', color = \"C0\", alpha = 0.5)\n",
    "    ax[1].plot(trunkOutput[i, :], '-', color = \"C1\", alpha = 0.5)\n",
    "\n",
    "ax[1].grid(True, color = 'lightgrey')\n",
    "\n",
    "plt.show()"
   ]
  },
  {
   "cell_type": "code",
   "execution_count": null,
   "metadata": {},
   "outputs": [],
   "source": [
    "testDomain = np.linspace(0, 1, 100)\n",
    "testU = createSamples(lengthScale=0.05, k=1, domain=testDomain)\n",
    "groundTruth = solutions(u=testU, t=testDomain).reshape(-1, 1)\n",
    "\n",
    "print(testDomain.shape)\n",
    "print(testU.shape)\n",
    "print(groundTruth.shape)"
   ]
  },
  {
   "cell_type": "code",
   "execution_count": null,
   "metadata": {},
   "outputs": [],
   "source": [
    "fig, ax = plt.subplots(1, 1, figsize=(10, 9))\n",
    "\n",
    "ax.plot(testDomain, testU.reshape(100, ), label = \"Profile\")\n",
    "ax.plot(testDomain, groundTruth, linestyle = \"-.\", label = \"Ground Truth\")\n",
    "\n",
    "ax.set_xlabel(\"$x$\")\n",
    "ax.set_ylabel(\"$f(x)$\")\n",
    "ax.tick_params(axis='x', labelcolor = 'tab:blue')\n",
    "ax.legend()\n",
    "ax.grid(True, color='lightgrey')\n",
    "\n",
    "plt.show()"
   ]
  },
  {
   "cell_type": "code",
   "execution_count": null,
   "metadata": {},
   "outputs": [],
   "source": [
    "testBranchInput = np.array([testU for i in range(testDomain.shape[0])]).reshape(-1, 100)\n",
    "print(testBranchInput.shape)\n",
    "testTrunkInput = testDomain.reshape(-1, 1)\n",
    "print(testTrunkInput.shape)\n",
    "\n",
    "preds = deepONET.predict([testBranchInput, testTrunkInput])\n",
    "print(preds.shape)"
   ]
  },
  {
   "cell_type": "code",
   "execution_count": null,
   "metadata": {},
   "outputs": [],
   "source": [
    "fig, ax = plt.subplots(2, 1, figsize=(10, 9))\n",
    "\n",
    "ax[0].plot(testDomain, testU.reshape(100, ), label = \"Profile\")\n",
    "ax[0].plot(testDomain, groundTruth, linestyle = \"-.\", label = \"Ground Truth\")\n",
    "ax[0].plot(testDomain, preds.reshape(100, ), linestyle = \":\", label = \"Prediction\")\n",
    "\n",
    "ax[0].set_xlabel(\"$x$\")\n",
    "ax[0].set_ylabel(\"$f(x)$\")\n",
    "ax[0].tick_params(axis='x', labelcolor = 'tab:blue')\n",
    "ax[0].legend()\n",
    "ax[0].grid(True, color='lightgrey')\n",
    "\n",
    "ax[1].plot(testDomain, preds - groundTruth, \".\", color = \"tab:red\", label = \"Residuals\")\n",
    "ax[1].axhline(0, linestyle = \":\", color = \"k\")\n",
    "\n",
    "ax[1].set_xlabel(\"$x$\")\n",
    "ax[1].set_ylabel(\"Residual\")\n",
    "ax[1].tick_params(axis='x', labelcolor = 'tab:blue')\n",
    "ax[1].legend()\n",
    "ax[1].grid(True, color='lightgrey')\n",
    "\n",
    "plt.show()"
   ]
  },
  {
   "cell_type": "code",
   "execution_count": null,
   "metadata": {},
   "outputs": [],
   "source": [
    "branchOutput = deepONET.branchNN(testBranchInput)\n",
    "print(branchOutput.shape)\n",
    "\n",
    "trunkOutput = deepONET.trunkNN(testTrunkInput)\n",
    "print(trunkOutput.shape)"
   ]
  },
  {
   "cell_type": "code",
   "execution_count": null,
   "metadata": {},
   "outputs": [],
   "source": [
    "fig, ax = plt.subplots(2, 1, figsize=(10,9))\n",
    "\n",
    "for i in range(20):\n",
    "    ax[0].plot(testDomain, branchOutput[:, i], '-', color = \"C0\", alpha = 0.5)\n",
    "    ax[0].plot(testDomain, trunkOutput[:, i], '-', color = \"C1\", alpha = 0.5)\n",
    "\n",
    "ax[0].grid(True, color = 'lightgrey')\n",
    "\n",
    "for i in range(100):\n",
    "    ax[1].plot(branchOutput[i, :], '-', color = \"C0\", alpha = 0.5)\n",
    "    ax[1].plot(trunkOutput[i, :], '-', color = \"C1\", alpha = 0.5)\n",
    "\n",
    "ax[1].grid(True, color = 'lightgrey')\n",
    "\n",
    "plt.show()"
   ]
  },
  {
   "cell_type": "code",
   "execution_count": null,
   "metadata": {},
   "outputs": [],
   "source": [
    "log_dir = os.path.join(\".\", \"assets\", \"logs\", \"fits\", f\"DeepOPINN_{datetime.datetime.now().strftime('%Y%m%d-%H%M%S')}\")\n",
    "tensorboard_callback = tf.keras.callbacks.TensorBoard(log_dir=log_dir, histogram_freq=1, write_images=True, profile_batch=True, )\n",
    "\n",
    "fileWriter = tf.summary.create_file_writer(os.path.join(log_dir, \"metrics\"))\n",
    "fileWriter.set_as_default()"
   ]
  },
  {
   "cell_type": "code",
   "execution_count": null,
   "metadata": {},
   "outputs": [],
   "source": [
    "modelPath = os.path.join(\".\", \"assets\", \"ml\", \"DeepOPINN\", \"deepOPINN.h5\")\n",
    "model_checkpoint_callback = tf.keras.callbacks.ModelCheckpoint(filepath=modelPath, monitor='val_loss', save_best_only=True, save_weights_only=True)"
   ]
  },
  {
   "cell_type": "code",
   "execution_count": null,
   "metadata": {},
   "outputs": [],
   "source": [
    "pinnCallback = LogPINNLossesCallback()"
   ]
  },
  {
   "cell_type": "code",
   "execution_count": null,
   "metadata": {},
   "outputs": [],
   "source": [
    "learning_rate_callback = tf.keras.callbacks.ReduceLROnPlateau(factor=0.9, patience=50, min_lr=1e-9)\n",
    "_callbacks = [tensorboard_callback, model_checkpoint_callback, learning_rate_callback, pinnCallback]\n",
    "callbacks = tf.keras.callbacks.CallbackList(_callbacks, add_history=False)"
   ]
  },
  {
   "cell_type": "code",
   "execution_count": null,
   "metadata": {},
   "outputs": [],
   "source": [
    "branchHiddenLayers = [tf.keras.layers.Dense(20, activation = 'tanh', name = f\"branchNETDense_layer{i+1}\") for i in range(5)]\n",
    "trunkHiddenLayers = [tf.keras.layers.Dense(20, activation = 'tanh', name = f\"trunkNETDense_layer{i+1}\") for i in range(5)]\n",
    "\n",
    "branchNET = BranchNN(hiddenLayers=branchHiddenLayers, input_shape=(100,))\n",
    "trunkNET = TrunkNN(hiddenLayers=trunkHiddenLayers, input_shape=(1,))\n",
    "deepOPINN = DeepOPINN(branchNN=branchNET, trunkNN=trunkNET)"
   ]
  },
  {
   "cell_type": "code",
   "execution_count": null,
   "metadata": {},
   "outputs": [],
   "source": [
    "optimizer = tf.keras.optimizers.Adam(learning_rate=1e-3, beta_1=0.9, beta_2=0.999)\n",
    "deepOPINN.compile(optimizer=optimizer, loss='mse', metrics=['mae', tf.keras.losses.MeanAbsolutePercentageError(), tf.keras.metrics.RootMeanSquaredError()])"
   ]
  },
  {
   "cell_type": "code",
   "execution_count": null,
   "metadata": {},
   "outputs": [],
   "source": [
    "deepOPINN.build(input_shape=[(None, 100), (None, 1)])"
   ]
  },
  {
   "cell_type": "code",
   "execution_count": null,
   "metadata": {},
   "outputs": [],
   "source": [
    "deepOPINN.summary()"
   ]
  },
  {
   "cell_type": "code",
   "execution_count": null,
   "metadata": {},
   "outputs": [],
   "source": [
    "deepOPINN.fit(x=X_train, y=y_train, epochs=5000, verbose=True, batch_size=100, validation_data=(X_val, y_val), callbacks=_callbacks)"
   ]
  },
  {
   "cell_type": "code",
   "execution_count": null,
   "metadata": {},
   "outputs": [],
   "source": [
    "fig, ax = plt.subplots(2, 2, figsize=(16, 16))\n",
    "\n",
    "ax[0][0].plot(deepOPINN.lossTracker.loss_history['traditional_loss'], label = \"Traditional Loss\")\n",
    "ax[0][0].grid(True, color = \"lightgrey\")\n",
    "ax[0][0].legend()\n",
    "ax[0][0].set_yscale('log')\n",
    "\n",
    "ax[0][1].plot(deepOPINN.lossTracker.loss_history['IC_loss'], label = \"IC Loss\")\n",
    "ax[0][1].grid(True, color = \"lightgrey\")\n",
    "ax[0][1].legend()\n",
    "ax[0][1].set_yscale('log')\n",
    "\n",
    "ax[1][0].plot(deepOPINN.lossTracker.loss_history['physics_loss'], label = \"Physics Loss\")\n",
    "ax[1][0].grid(True, color = \"lightgrey\")\n",
    "ax[1][0].legend()\n",
    "ax[1][0].set_yscale('log')\n",
    "\n",
    "ax[1][1].plot(deepOPINN.lossTracker.loss_history['total_loss'], label = \"Combined Loss\")\n",
    "ax[1][1].grid(True, color = \"lightgrey\")\n",
    "ax[1][1].legend()\n",
    "ax[1][1].set_yscale('log')\n",
    "\n",
    "plt.show()"
   ]
  },
  {
   "cell_type": "code",
   "execution_count": null,
   "metadata": {},
   "outputs": [],
   "source": [
    "deepOPINN.load_weights(filepath=modelPath)\n",
    "\n",
    "testDomain = np.linspace(0, 1, 100)\n",
    "testU = createSamples(lengthScale=0.2, k=1, domain=testDomain)\n",
    "groundTruth = solutions(u=testU, t=testDomain).reshape(-1, 1)\n",
    "\n",
    "print(testDomain.shape)\n",
    "print(testU.shape)\n",
    "print(groundTruth.shape)"
   ]
  },
  {
   "cell_type": "code",
   "execution_count": null,
   "metadata": {},
   "outputs": [],
   "source": [
    "fig, ax = plt.subplots(1, 1, figsize=(10, 9))\n",
    "\n",
    "ax.plot(testDomain, testU.reshape(100, ), label = \"Profile\")\n",
    "ax.plot(testDomain, groundTruth, linestyle = \"-.\", label = \"Ground Truth\")\n",
    "\n",
    "ax.set_xlabel(\"$x$\")\n",
    "ax.set_ylabel(\"$f(x)$\")\n",
    "ax.tick_params(axis='x', labelcolor = 'tab:blue')\n",
    "ax.legend()\n",
    "ax.grid(True, color='lightgrey')\n",
    "\n",
    "plt.show()"
   ]
  },
  {
   "cell_type": "code",
   "execution_count": null,
   "metadata": {},
   "outputs": [],
   "source": [
    "testBranchInput = np.array([testU for i in range(testDomain.shape[0])]).reshape(-1, 100)\n",
    "print(testBranchInput.shape)\n",
    "testTrunkInput = testDomain.reshape(-1, 1)\n",
    "print(testTrunkInput.shape)\n",
    "\n",
    "preds = deepOPINN.predict([testBranchInput, testTrunkInput])\n",
    "print(preds.shape)"
   ]
  },
  {
   "cell_type": "code",
   "execution_count": null,
   "metadata": {},
   "outputs": [],
   "source": [
    "fig, ax = plt.subplots(2, 1, figsize=(10, 9))\n",
    "\n",
    "ax[0].plot(testDomain, testU.reshape(100, ), label = \"Profile\")\n",
    "ax[0].plot(testDomain, groundTruth, linestyle = \"-.\", label = \"Ground Truth\")\n",
    "ax[0].plot(testDomain, preds.reshape(100, ), linestyle = \":\", label = \"Prediction\")\n",
    "\n",
    "ax[0].set_xlabel(\"$x$\")\n",
    "ax[0].set_ylabel(\"$f(x)$\")\n",
    "ax[0].tick_params(axis='x', labelcolor = 'tab:blue')\n",
    "ax[0].legend()\n",
    "ax[0].grid(True, color='lightgrey')\n",
    "\n",
    "ax[1].plot(testDomain, preds - groundTruth, \".\", color = \"tab:red\", label = \"Residuals\")\n",
    "ax[1].axhline(0, linestyle = \":\", color = \"k\")\n",
    "\n",
    "ax[1].set_xlabel(\"$x$\")\n",
    "ax[1].set_ylabel(\"Residual\")\n",
    "ax[1].tick_params(axis='x', labelcolor = 'tab:blue')\n",
    "ax[1].legend()\n",
    "ax[1].grid(True, color='lightgrey')\n",
    "\n",
    "plt.show()"
   ]
  },
  {
   "cell_type": "code",
   "execution_count": null,
   "metadata": {},
   "outputs": [],
   "source": [
    "pred_test = deepOPINN.predict(X_test)\n",
    "\n",
    "fig, axs = plt.subplots(2, 2, figsize=(16, 16))\n",
    "index = np.random.choice(np.arange(0, N_test), size=4, replace=False)\n",
    "for i in range(4):\n",
    "    ax = axs[i // 2, i % 2]\n",
    "    ax.plot(domain, g_test[index[i]*100], label = f\"Profile at index {index[i]}\")\n",
    "    ax.plot(domain, y_test[index[i]*100:(index[i]+1)*100], \"-.\", label = f\"Solution at index {index[i]}\")\n",
    "    ax.plot(domain, pred_test[index[i]*100:(index[i]+1)*100], \"-.\", label = f\"Prediction at index {index[i]}\")\n",
    "    ax.set_xlabel('t', fontsize=12)\n",
    "    ax.set_ylabel('u(t)', fontsize=12)\n",
    "    ax.legend()\n",
    "    ax.grid(True, color = 'lightgrey')\n",
    "\n",
    "plt.show()"
   ]
  },
  {
   "cell_type": "code",
   "execution_count": null,
   "metadata": {},
   "outputs": [],
   "source": [
    "branchOutput = deepOPINN.branchNN(testBranchInput)\n",
    "print(branchOutput.shape)\n",
    "\n",
    "trunkOutput = deepOPINN.trunkNN(testTrunkInput)\n",
    "print(trunkOutput.shape)"
   ]
  },
  {
   "cell_type": "code",
   "execution_count": null,
   "metadata": {},
   "outputs": [],
   "source": [
    "fig, ax = plt.subplots(2, 1, figsize=(10,9))\n",
    "\n",
    "for i in range(20):\n",
    "    ax[0].plot(testDomain, branchOutput[:, i], '-', color = \"C0\", alpha = 0.5)\n",
    "    ax[0].plot(testDomain, trunkOutput[:, i], '-', color = \"C1\", alpha = 0.5)\n",
    "\n",
    "ax[0].grid(True, color = 'lightgrey')\n",
    "\n",
    "for i in range(100):\n",
    "    ax[1].plot(branchOutput[i, :], '-', color = \"C0\", alpha = 0.5)\n",
    "    ax[1].plot(trunkOutput[i, :], '-', color = \"C1\", alpha = 0.5)\n",
    "\n",
    "ax[1].grid(True, color = 'lightgrey')\n",
    "\n",
    "plt.show()"
   ]
  },
  {
   "cell_type": "code",
   "execution_count": null,
   "metadata": {},
   "outputs": [],
   "source": [
    "testDomain = np.linspace(0, 1, 100)\n",
    "testU = createSamples(lengthScale=0.05, k=1, domain=testDomain)\n",
    "groundTruth = solutions(u=testU, t=testDomain).reshape(-1, 1)\n",
    "\n",
    "print(testDomain.shape)\n",
    "print(testU.shape)\n",
    "print(groundTruth.shape)"
   ]
  },
  {
   "cell_type": "code",
   "execution_count": null,
   "metadata": {},
   "outputs": [],
   "source": [
    "fig, ax = plt.subplots(1, 1, figsize=(10, 9))\n",
    "\n",
    "ax.plot(testDomain, testU.reshape(100, ), label = \"Profile\")\n",
    "ax.plot(testDomain, groundTruth, linestyle = \"-.\", label = \"Ground Truth\")\n",
    "\n",
    "ax.set_xlabel(\"$x$\")\n",
    "ax.set_ylabel(\"$f(x)$\")\n",
    "ax.tick_params(axis='x', labelcolor = 'tab:blue')\n",
    "ax.legend()\n",
    "ax.grid(True, color='lightgrey')\n",
    "\n",
    "plt.show()"
   ]
  },
  {
   "cell_type": "code",
   "execution_count": null,
   "metadata": {},
   "outputs": [],
   "source": [
    "testBranchInput = np.array([testU for i in range(testDomain.shape[0])]).reshape(-1, 100)\n",
    "print(testBranchInput.shape)\n",
    "testTrunkInput = testDomain.reshape(-1, 1)\n",
    "print(testTrunkInput.shape)\n",
    "\n",
    "preds = deepOPINN.predict([testBranchInput, testTrunkInput])\n",
    "print(preds.shape)"
   ]
  },
  {
   "cell_type": "code",
   "execution_count": null,
   "metadata": {},
   "outputs": [],
   "source": [
    "fig, ax = plt.subplots(2, 1, figsize=(10, 9))\n",
    "\n",
    "ax[0].plot(testDomain, testU.reshape(100, ), label = \"Profile\")\n",
    "ax[0].plot(testDomain, groundTruth, linestyle = \"-.\", label = \"Ground Truth\")\n",
    "ax[0].plot(testDomain, preds.reshape(100, ), linestyle = \":\", label = \"Prediction\")\n",
    "\n",
    "ax[0].set_xlabel(\"$x$\")\n",
    "ax[0].set_ylabel(\"$f(x)$\")\n",
    "ax[0].tick_params(axis='x', labelcolor = 'tab:blue')\n",
    "ax[0].legend()\n",
    "ax[0].grid(True, color='lightgrey')\n",
    "\n",
    "ax[1].plot(testDomain, preds - groundTruth, \".\", color = \"tab:red\", label = \"Residuals\")\n",
    "ax[1].axhline(0, linestyle = \":\", color = \"k\")\n",
    "\n",
    "ax[1].set_xlabel(\"$x$\")\n",
    "ax[1].set_ylabel(\"Residual\")\n",
    "ax[1].tick_params(axis='x', labelcolor = 'tab:blue')\n",
    "ax[1].legend()\n",
    "ax[1].grid(True, color='lightgrey')\n",
    "\n",
    "plt.show()"
   ]
  },
  {
   "cell_type": "code",
   "execution_count": null,
   "metadata": {},
   "outputs": [],
   "source": [
    "branchOutput = deepOPINN.branchNN(testBranchInput)\n",
    "print(branchOutput.shape)\n",
    "\n",
    "trunkOutput = deepOPINN.trunkNN(testTrunkInput)\n",
    "print(trunkOutput.shape)"
   ]
  },
  {
   "cell_type": "code",
   "execution_count": null,
   "metadata": {},
   "outputs": [],
   "source": [
    "fig, ax = plt.subplots(2, 1, figsize=(10,9))\n",
    "\n",
    "for i in range(20):\n",
    "    ax[0].plot(testDomain, branchOutput[:, i], '-', color = \"C0\", alpha = 0.5)\n",
    "    ax[0].plot(testDomain, trunkOutput[:, i], '-', color = \"C1\", alpha = 0.5)\n",
    "\n",
    "ax[0].grid(True, color = 'lightgrey')\n",
    "\n",
    "for i in range(100):\n",
    "    ax[1].plot(branchOutput[i, :], '-', color = \"C0\", alpha = 0.5)\n",
    "    ax[1].plot(trunkOutput[i, :], '-', color = \"C1\", alpha = 0.5)\n",
    "\n",
    "ax[1].grid(True, color = 'lightgrey')\n",
    "\n",
    "plt.show()"
   ]
  }
 ],
 "metadata": {
  "kernelspec": {
   "display_name": "Python 3",
   "language": "python",
   "name": "python3"
  },
  "language_info": {
   "codemirror_mode": {
    "name": "ipython",
    "version": 3
   },
   "file_extension": ".py",
   "mimetype": "text/x-python",
   "name": "python",
   "nbconvert_exporter": "python",
   "pygments_lexer": "ipython3",
   "version": "3.11.6"
  }
 },
 "nbformat": 4,
 "nbformat_minor": 2
}
